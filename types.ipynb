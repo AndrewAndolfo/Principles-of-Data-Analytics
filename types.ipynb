{
 "cells": [
  {
   "cell_type": "markdown",
   "metadata": {},
   "source": [
    "# Stanley Smith Stevens\n",
    "## On the Theory of Scales of Measurement (1946)\n",
    "\n",
    "\n",
    "### Applied to the Iris dataset\n",
    "**Nominal:** Catagorizes data without any order. \n",
    "In following case, it can be categorized in alphabetical order.\n",
    "- Iris species (Setosa, Versicolor, Virginica). \n",
    "\n",
    "\n",
    "**Ordinal:** Classifies data in a specific order, but without defined distances between values.\n",
    "In the Iris dataset, it can be categorized by size. \n",
    "- Petal size (Small, Medium, Large).\n",
    "\n",
    "\n",
    "**Interval:** Has equal intervals between values, but no absolute zero point.\n",
    "In the Iris Dataset, it represents the temperature.\n",
    "- Ambient temperature during collection (in Celsius).\n",
    "\n",
    "\n",
    "\n",
    "**Ratio:** Has equal intervals and an absolute zero point, allowing for proportional comparisons.\n",
    "In the Iris Dataset, it represents the length in centimeters.\n",
    "- Length and width of petals and sepals (in cm).\n"
   ]
  },
  {
   "cell_type": "markdown",
   "metadata": {},
   "source": [
    "# Types in Python"
   ]
  },
  {
   "cell_type": "markdown",
   "metadata": {},
   "source": [
    "1. Numeric\n",
    "- int (eg. 41, 25, 1, 2852) these are interger numbers\n",
    "\n",
    "- float (e.g. 3.14, 0.5, 638,89) float number allow decimal places\n",
    "\n",
    "- complex (e.g. 2 + 3j ) these allow calculations with imaginary numbers represented by letters. # That's new for me. Needs more attention.\n",
    "\n",
    "2. Boolean / Binary\n",
    "- bool (e.g. True , False) it's a binary process\n",
    "\n",
    "- bytes (e.g. b'hello') \n",
    "\n",
    "- bytearray (mutable version of bytes) # That's new for me. Needs more attention.\n",
    "\n",
    "- memoryview ( view over binary data) # That's new for me. Needs more attention.\n",
    "\n",
    "3. Sequence\n",
    "- str (e.g. \"hello\") it's a string type used to print text\n",
    "\n",
    "- list ( e.g.[1, 2, 3], [apple, pear, banana]) a list must to be in square brackets []. Lists can be modified, add new itens and remove then.\n",
    "\n",
    "- tuple (e.g (1, 2, 3), (apple, pear, banana)) a tuple must to be in round bracket and can't be changed, the itens can't be added or removed from.\n",
    "\n",
    "4. Other # That's new for me. Needs more attention.\n",
    "- set (e.g. {1,2,3}) set is kind of like a list, but the elements don't have an order and can't repaet. In a list it's possible to put  two numbers 2 (1,2,2,3) bit in a set is not {1,2,3}.\n",
    "\n",
    "- frozenset (immutable version of set)\n",
    "\n",
    "- dict (e.g. {\"key\": \"value\"} ) # That's new for me. Needs more attention."
   ]
  },
  {
   "cell_type": "markdown",
   "metadata": {},
   "source": [
    "### Binary intergers\n",
    "Binary representation is the type the computer read the information."
   ]
  },
  {
   "cell_type": "code",
   "execution_count": null,
   "metadata": {},
   "outputs": [
    {
     "data": {
      "text/plain": [
       "'0b101010'"
      ]
     },
     "execution_count": 5,
     "metadata": {},
     "output_type": "execute_result"
    }
   ],
   "source": [
    "# Example:\n",
    "num = 42\n",
    "num\n",
    "\n",
    "bin(num)\n",
    "# It prints a sequence of 1 and 0 "
   ]
  },
  {
   "cell_type": "markdown",
   "metadata": {},
   "source": [
    "### Explaining\n",
    "\n",
    "The binary number '0b101010' is how the computer read the number 42\n",
    "\n",
    "'0b101010'\n",
    "##### from right to left:\n",
    "The first '0' means 1.\n",
    "the '1' means **2**.\n",
    "the 0 is 4\n",
    "the 1 is **8**\n",
    "the 0 16\n",
    "the 1 is **32**\n",
    "\n",
    "**32 + 8 + 2 = 42**"
   ]
  },
  {
   "cell_type": "markdown",
   "metadata": {},
   "source": [
    "### Binary Strings"
   ]
  },
  {
   "cell_type": "code",
   "execution_count": 2,
   "metadata": {},
   "outputs": [
    {
     "data": {
      "text/plain": [
       "65"
      ]
     },
     "execution_count": 2,
     "metadata": {},
     "output_type": "execute_result"
    }
   ],
   "source": [
    "# Character \"A\"\n",
    "\n",
    "char = 'A'\n",
    "\n",
    "char\n",
    "\n",
    "\n",
    "# Original value\n",
    "ord(char)"
   ]
  },
  {
   "cell_type": "code",
   "execution_count": null,
   "metadata": {},
   "outputs": [
    {
     "data": {
      "text/plain": [
       "'0b1000001'"
      ]
     },
     "execution_count": 3,
     "metadata": {},
     "output_type": "execute_result"
    }
   ],
   "source": [
    "# Binary\n",
    "bin(ord(char))"
   ]
  },
  {
   "cell_type": "markdown",
   "metadata": {},
   "source": [
    "### Explaining\n",
    "\n",
    "'0b1000001'\n",
    "from right to left:\n",
    "First 1 is **1**\n",
    "0 = 2\n",
    "0 = 4\n",
    "0 = 8\n",
    "0 = 16\n",
    "0 = 32\n",
    "1 = **64**\n",
    "\n",
    "So 64 + 1 =  65, the binary result for 'A'"
   ]
  },
  {
   "cell_type": "markdown",
   "metadata": {},
   "source": [
    "### Binary Floats"
   ]
  },
  {
   "cell_type": "code",
   "execution_count": 1,
   "metadata": {},
   "outputs": [
    {
     "data": {
      "text/plain": [
       "3.14"
      ]
     },
     "execution_count": 1,
     "metadata": {},
     "output_type": "execute_result"
    }
   ],
   "source": [
    "# Float\n",
    "num = 3.14\n",
    "\n",
    "# Show\n",
    "num"
   ]
  },
  {
   "cell_type": "code",
   "execution_count": null,
   "metadata": {},
   "outputs": [
    {
     "name": "stdout",
     "output_type": "stream",
     "text": [
      "01000000010010001111010111000011\n"
     ]
    }
   ],
   "source": [
    "# for float numbers the code bin() do not work as following:\n",
    "# bin(num)\n",
    "# it shows:\n",
    "# TypeError: 'float' object cannot be interpreted as an integer\n",
    "\n",
    "# the right code to show the binary representartio for float numbers is:\n",
    "# 32 bit representation\n",
    "import struct\n",
    "binary_representation = ''.join(f\"{b:08b}\" for b in struct.pack('!f', num))\n",
    "print (binary_representation)"
   ]
  },
  {
   "cell_type": "code",
   "execution_count": 13,
   "metadata": {},
   "outputs": [
    {
     "name": "stdout",
     "output_type": "stream",
     "text": [
      "0100000000001001000111101011100001010001111010111000010100011111\n"
     ]
    }
   ],
   "source": [
    "# 64 bit representation\n",
    "import struct\n",
    "binary_representation = ''.join(f\"{b:08b}\" for b in struct.pack('!d', num))\n",
    "print (binary_representation)"
   ]
  }
 ],
 "metadata": {
  "kernelspec": {
   "display_name": "Python 3",
   "language": "python",
   "name": "python3"
  },
  "language_info": {
   "codemirror_mode": {
    "name": "ipython",
    "version": 3
   },
   "file_extension": ".py",
   "mimetype": "text/x-python",
   "name": "python",
   "nbconvert_exporter": "python",
   "pygments_lexer": "ipython3",
   "version": "3.12.1"
  }
 },
 "nbformat": 4,
 "nbformat_minor": 2
}
